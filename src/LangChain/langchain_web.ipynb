{
 "cells": [
  {
   "cell_type": "code",
   "execution_count": 1,
   "id": "e83f1255-76d1-4cda-8ffb-99164f1d818c",
   "metadata": {},
   "outputs": [
    {
     "name": "stdout",
     "output_type": "stream",
     "text": [
      "Note: you may need to restart the kernel to use updated packages.\n"
     ]
    }
   ],
   "source": [
    "%pip install -qU langchain-community beautifulsoup4"
   ]
  },
  {
   "cell_type": "code",
   "execution_count": 4,
   "id": "c16bff09-0cbd-44f1-91ce-2cede9628a4b",
   "metadata": {},
   "outputs": [
    {
     "name": "stdout",
     "output_type": "stream",
     "text": [
      "Note: you may need to restart the kernel to use updated packages.\n"
     ]
    }
   ],
   "source": [
    "%pip install -qU langchain-openai"
   ]
  },
  {
   "cell_type": "code",
   "execution_count": 24,
   "id": "f42f9d5e-31f3-47aa-8dd7-15b49ae790ee",
   "metadata": {},
   "outputs": [
    {
     "name": "stdout",
     "output_type": "stream",
     "text": [
      "32\n"
     ]
    }
   ],
   "source": [
    "import bs4\n",
    "import re\n",
    "\n",
    "from bs4 import BeautifulSoup\n",
    "\n",
    "\n",
    "def bs4_extractor(html: str) -> str:\n",
    "    soup = BeautifulSoup(html, \"lxml\")\n",
    "    return re.sub(r\"\\n\\n+\", \"\\n\\n\", soup.text).strip()\n",
    "\n",
    "from langchain_community.document_loaders import RecursiveUrlLoader\n",
    "\n",
    "loader = RecursiveUrlLoader(\n",
    "    \"https://docs.xbim.net/\",\n",
    "    extractor=bs4_extractor,\n",
    "    max_depth=5,\n",
    "    # use_async=False,\n",
    "    # extractor=None,\n",
    "    # metadata_extractor=None,\n",
    "    # exclude_dirs=(),\n",
    "    # timeout=10,\n",
    "    # check_response_status=True,\n",
    "    # continue_on_failure=True,\n",
    "    # prevent_outside=True,\n",
    "    # base_url=None,\n",
    "    # ...\n",
    ")\n",
    "docs = []\n",
    "async for doc in loader.alazy_load():\n",
    "    docs.append(doc)\n",
    "\n",
    "print(len(docs))"
   ]
  },
  {
   "cell_type": "code",
   "execution_count": 25,
   "id": "455089be-475e-4d77-b0d5-7adbb826a888",
   "metadata": {},
   "outputs": [
    {
     "name": "stdout",
     "output_type": "stream",
     "text": [
      "{'source': 'https://docs.xbim.net/', 'content_type': 'text/html; charset=utf-8', 'title': 'xbim toolkit', 'description': 'xbim toolkit is an Open Source toolkit for IFC and BIM. You can use it to do anything with IFC. It implements IFC2x3 and IFC4 and allows to develop SW agnostic to IFC version and file format.', 'language': 'en'}\n",
      "\n"
     ]
    }
   ],
   "source": [
    "doc = docs[0]\n",
    "print(f\"{doc.metadata}\\n\")"
   ]
  },
  {
   "cell_type": "code",
   "execution_count": 26,
   "id": "660c1f14-5a0d-4293-b761-521cd5994b65",
   "metadata": {},
   "outputs": [
    {
     "name": "stdout",
     "output_type": "stream",
     "text": [
      "xbim toolkit\n",
      "\n",
      "Toggle navigation\n",
      "\n",
      "Quick Start\n",
      "\n",
      "Docs\n",
      "\n",
      "Examples \n",
      "\n",
      "Examples list\n",
      "\n",
      "Basic \n",
      "\n",
      "Basic Model Operations\n",
      "\n",
      "Watch the log!\n",
      "\n",
      "Proper Wall in 3D\n",
      "\n",
      "STEP to XML and Back Again\n",
      "\n",
      "Creating wexBIM file\n",
      "\n",
      "Using LINQ for Optimal Performance\n",
      "\n",
      "Excel Space Report from IFC\n",
      "\n",
      "Spatial hierarchy\n",
      "\n",
      "Advanced \n",
      "\n",
      "Federating Models\n",
      "\n",
      "Insert Copy Function\n",
      "\n",
      "Change Log Creation\n",
      "\n",
      "Web UI  \n",
      "\n",
      "Hello Building\n",
      "\n",
      "Safe Hello Building\n",
      "\n",
      "Eventful Building\n",
      "\n",
      "Building Seen from Everywhere\n",
      "\n",
      "Colourful Building\n",
      "\n",
      "Pinpoint the View\n",
      "\n",
      "Informationa\n"
     ]
    }
   ],
   "source": [
    "print(doc.page_content[:500].strip())"
   ]
  },
  {
   "cell_type": "code",
   "execution_count": 3,
   "id": "d262ae35-56b6-49f0-b27e-abffc5c67888",
   "metadata": {},
   "outputs": [
    {
     "name": "stdin",
     "output_type": "stream",
     "text": [
      "Enter API key for Azure:  ········\n"
     ]
    }
   ],
   "source": [
    "import getpass\n",
    "import os\n",
    "\n",
    "os.environ[\"AZURE_OPENAI_API_KEY\"] = getpass.getpass(\"Enter API key for Azure: \")"
   ]
  },
  {
   "cell_type": "code",
   "execution_count": 6,
   "id": "181f512c-2763-4619-a0d3-334569170680",
   "metadata": {},
   "outputs": [],
   "source": [
    "from langchain_openai import AzureOpenAIEmbeddings\n",
    "\n",
    "embeddings = AzureOpenAIEmbeddings(\n",
    "    azure_endpoint=\"https://oai-bim42-test-fr-ai.openai.azure.com\",\n",
    "    azure_deployment=\"text-embedding-3-small\",\n",
    "    openai_api_version=\"2025-01-01-preview\",\n",
    ")"
   ]
  },
  {
   "cell_type": "code",
   "execution_count": 27,
   "id": "c874877a-95d4-422f-9290-976c25214a9d",
   "metadata": {},
   "outputs": [
    {
     "data": {
      "text/plain": [
       "305"
      ]
     },
     "execution_count": 27,
     "metadata": {},
     "output_type": "execute_result"
    }
   ],
   "source": [
    "from langchain_text_splitters import RecursiveCharacterTextSplitter\n",
    "\n",
    "text_splitter = RecursiveCharacterTextSplitter(\n",
    "    chunk_size=1000, chunk_overlap=200, add_start_index=True\n",
    ")\n",
    "all_splits = text_splitter.split_documents(docs)\n",
    "\n",
    "len(all_splits)"
   ]
  },
  {
   "cell_type": "code",
   "execution_count": 28,
   "id": "240ef073-6583-499e-83e1-6d55bae133a2",
   "metadata": {},
   "outputs": [],
   "source": [
    "from langchain_core.vectorstores import InMemoryVectorStore\n",
    "from langchain_openai import AzureOpenAIEmbeddings\n",
    "\n",
    "vector_store = InMemoryVectorStore.from_documents(all_splits, embeddings)"
   ]
  },
  {
   "cell_type": "code",
   "execution_count": 40,
   "id": "cddc591a-9781-4e01-b584-245c92945392",
   "metadata": {},
   "outputs": [
    {
     "name": "stdout",
     "output_type": "stream",
     "text": [
      "\n",
      "4 results found\n",
      "\n",
      "First result Score: 0.35280009177534666\n",
      "\n",
      "Content:\n",
      "That is scalable in a way but far from being optimal or cost efficient.\n",
      "Based on all our findings we have developed a new cloud platform xbim flex, which uses xbim toolkit\n",
      "under the hood and provides access to building data in a completely scalable way as a commercial service. It can process any number \n",
      "of models at any time and can digest models which make many other platforms choke. If you are interested, \n",
      "download the Flex Revit Add-In here or get in touch at info@xbim.net.\n",
      "Our first application on the platform is helping people to communicate around BIM models using open standards \n",
      "in the cloud: www.xbim.net. We have also found and fixed several issues with IFC production, \n",
      "you can download our Revit  Add-in for free and see how the platform works at www.xbim.net/download-addin.\n",
      "Web application for communication around models:\n",
      "\n",
      "{'source': 'https://docs.xbim.net/cloud.html', 'content_type': 'text/html; charset=utf-8', 'title': 'xbim flex', 'description': 'xbim toolkit is an Open Source toolkit for IFC and BIM. You can use it to do anything with IFC. It implements IFC2x3 and IFC4 and allows to develop SW agnostic to IFC version and file format.', 'language': 'en', 'start_index': 2289}\n"
     ]
    }
   ],
   "source": [
    "results = vector_store.similarity_search_with_score(\"can digest models\")\n",
    "print()\n",
    "print(f\"{len(results)} results found\\n\")\n",
    "doc, score = results[0]\n",
    "print(f\"First result Score: {score}\\n\")\n",
    "print(f\"Content:\\n{doc.page_content}\\n\")\n",
    "print(doc.metadata)"
   ]
  },
  {
   "cell_type": "code",
   "execution_count": null,
   "id": "2ea448a7-7ac6-44c4-ac83-b1102a3c7e4f",
   "metadata": {},
   "outputs": [],
   "source": []
  }
 ],
 "metadata": {
  "kernelspec": {
   "display_name": "Python 3 (ipykernel)",
   "language": "python",
   "name": "python3"
  },
  "language_info": {
   "codemirror_mode": {
    "name": "ipython",
    "version": 3
   },
   "file_extension": ".py",
   "mimetype": "text/x-python",
   "name": "python",
   "nbconvert_exporter": "python",
   "pygments_lexer": "ipython3",
   "version": "3.12.7"
  }
 },
 "nbformat": 4,
 "nbformat_minor": 5
}
