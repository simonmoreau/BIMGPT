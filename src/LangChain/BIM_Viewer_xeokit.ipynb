{
 "cells": [
  {
   "cell_type": "code",
   "execution_count": 2,
   "id": "76dfe691-baaa-478e-a273-939e2837a083",
   "metadata": {},
   "outputs": [],
   "source": [
    "# https://medium.com/@aminajavaid30/building-a-rag-system-synthesis-67f36efa7c35\n",
    "\n",
    "# Data Ingestion & Retrieval\n",
    "import bs4\n",
    "import re\n",
    "import os\n",
    "import getpass\n",
    "from langchain_text_splitters import RecursiveCharacterTextSplitter\n",
    "from langchain_core.documents import Document\n",
    "from langchain_community.document_loaders import RecursiveUrlLoader\n",
    "from langchain_community.document_loaders import GithubFileLoader\n",
    "from bs4 import BeautifulSoup\n",
    "\n"
   ]
  },
  {
   "cell_type": "code",
   "execution_count": 3,
   "id": "5c7fcb92-ab6b-4ca0-937a-56ab2bd6d2d0",
   "metadata": {},
   "outputs": [],
   "source": [
    "# Load a github repo\n",
    "\n",
    "if not os.environ.get(\"GITHUB_PAT\"):\n",
    "  os.environ[\"GITHUB_PAT\"] = getpass.getpass(\"Enter Github PAT: \")\n",
    "\n",
    "async def github_repo(repo_name: str) -> list[Document]:\n",
    "    loader = GithubFileLoader(\n",
    "        repo=repo_name, # the repo name\n",
    "        access_token= os.environ[\"GITHUB_PAT\"],\n",
    "        github_api_url=\"https://api.github.com\",\n",
    "        branch =\"master\", \n",
    "        file_filter=lambda file_path: file_path.endswith(\n",
    "            \".md\"\n",
    "        ),  # load all markdowns files.\n",
    "    )\n",
    "    github_docs = []\n",
    "    async for doc in loader.alazy_load():\n",
    "        github_docs.append(doc)\n",
    "    return github_docs"
   ]
  },
  {
   "cell_type": "code",
   "execution_count": 4,
   "id": "7529ceff-56f0-4465-9f79-f9208acdb788",
   "metadata": {
    "scrolled": true
   },
   "outputs": [],
   "source": [
    "# Load a website reccusivly and split it into chunks\n",
    "def bs4_extractor(html: str) -> str:\n",
    "    soup = BeautifulSoup(html, \"lxml\")\n",
    "    return re.sub(r\"\\n\\n+\", \"\\n\\n\", soup.text).strip()\n",
    "\n",
    "async def website_parser(base_url: str) -> list[Document]:\n",
    "    loader = RecursiveUrlLoader(\n",
    "        base_url,\n",
    "        extractor=bs4_extractor,\n",
    "        max_depth=2,\n",
    "        prevent_outside=True,\n",
    "        # use_async=False,\n",
    "        # extractor=None,\n",
    "        # metadata_extractor=None,\n",
    "        # exclude_dirs=(),\n",
    "        # timeout=10,\n",
    "        # check_response_status=True,\n",
    "        # continue_on_failure=True,\n",
    "        # \n",
    "        # base_url=None,\n",
    "        # ...\n",
    "    )\n",
    "    site_docs = []\n",
    "    async for doc in loader.alazy_load():\n",
    "        site_docs.append(doc)\n",
    "    return site_docs"
   ]
  },
  {
   "cell_type": "code",
   "execution_count": 5,
   "id": "5ff77ade-2921-4db9-b5e7-f334488763e7",
   "metadata": {},
   "outputs": [],
   "source": [
    "# Initialize the OpenAI embedding model\n",
    "import getpass\n",
    "import os\n",
    "\n",
    "from langchain_openai import AzureOpenAIEmbeddings\n",
    "from langchain_core.vectorstores import InMemoryVectorStore\n",
    "\n",
    "if not os.environ.get(\"AZURE_OPENAI_API_KEY\"):\n",
    "  os.environ[\"AZURE_OPENAI_API_KEY\"] = getpass.getpass(\"Enter API key for Azure: \")\n",
    "\n",
    "azureEmbeddings = AzureOpenAIEmbeddings(\n",
    "    azure_endpoint=\"https://oai-bim42-test-fr-ai.openai.azure.com\",\n",
    "    azure_deployment=\"text-embedding-3-small\",\n",
    "    openai_api_version=\"2025-01-01-preview\",\n",
    ")\n",
    "\n",
    "# Initialize the recursive character text splitter\n",
    "text_splitter = RecursiveCharacterTextSplitter(              \n",
    "    chunk_size=1000,\n",
    "    chunk_overlap=200,\n",
    "    add_start_index=True\n",
    ")\n",
    "\n",
    "# Initialize with an embedding model\n",
    "vector_store = InMemoryVectorStore(embedding=azureEmbeddings)"
   ]
  },
  {
   "cell_type": "code",
   "execution_count": 6,
   "id": "11ebe41a-4803-4dad-af73-51270f376be4",
   "metadata": {},
   "outputs": [
    {
     "name": "stdout",
     "output_type": "stream",
     "text": [
      "17 docs in https://xeokit.io/\n",
      "86 chunks in https://xeokit.io/\n",
      "15 docs in https://xeokit.github.io/xeokit-bim-viewer/\n",
      "271 chunks in https://xeokit.github.io/xeokit-bim-viewer/\n"
     ]
    }
   ],
   "source": [
    "# Define a list of site to parse\n",
    "urls = [\"https://xeokit.io/\",\"https://xeokit.github.io/xeokit-bim-viewer/\"]\n",
    "\n",
    "# Iterate over each urls in the list\n",
    "for url in urls:\n",
    "    # Retrive the documents\n",
    "    website_docs = await website_parser(url)\n",
    "    website_docs\n",
    "    print(f\"{len(website_docs)} docs in {url}\")\n",
    "    # Split the documents into chunks\n",
    "    chunks = text_splitter.split_documents(website_docs)\n",
    "    print(f\"{len(chunks)} chunks in {url}\")\n",
    "    # Add embeddings into the vector store\n",
    "    vector_store.add_documents(documents=chunks)\n"
   ]
  },
  {
   "cell_type": "code",
   "execution_count": 7,
   "id": "58ef82dc-3616-4856-8a75-8a768a8231bf",
   "metadata": {},
   "outputs": [
    {
     "name": "stdout",
     "output_type": "stream",
     "text": [
      "14 docs in xeokit/xeokit-sdk\n",
      "196 chunks in xeokit/xeokit-sdk\n",
      "4 docs in xeokit/xeokit-bim-viewer\n",
      "107 chunks in xeokit/xeokit-bim-viewer\n"
     ]
    }
   ],
   "source": [
    "# Define a list of github repo to parse\n",
    "repos = [\"xeokit/xeokit-sdk\",\"xeokit/xeokit-bim-viewer\"]\n",
    "\n",
    "\n",
    "# Iterate over each urls in the list\n",
    "for repo in repos:\n",
    "    # Retrive the documents\n",
    "    github_docs = await github_repo(repo)\n",
    "    print(f\"{len(github_docs)} docs in {repo}\")\n",
    "    # Split the documents into chunks\n",
    "    chunks = text_splitter.split_documents(github_docs)\n",
    "    print(f\"{len(chunks)} chunks in {repo}\")\n",
    "    # Add embeddings into the vector store\n",
    "    vector_store.add_documents(documents=chunks)"
   ]
  },
  {
   "cell_type": "code",
   "execution_count": 8,
   "id": "85e1fc51-1131-461c-961a-e38f211010bd",
   "metadata": {},
   "outputs": [],
   "source": [
    "# Retrieve relevant information using similarity search\n",
    "retriever = vector_store.as_retriever() # uses similarity search by default"
   ]
  },
  {
   "cell_type": "code",
   "execution_count": 9,
   "id": "d3c31472-ae52-4acf-bf09-b39c6df20deb",
   "metadata": {},
   "outputs": [],
   "source": [
    "# Q/A Retrieval Chain\n",
    "\n",
    "from langchain_openai import AzureChatOpenAI\n",
    "from langchain.chains import create_retrieval_chain\n",
    "from langchain.chains.combine_documents import create_stuff_documents_chain\n",
    "from langchain_core.prompts import ChatPromptTemplate\n",
    "\n",
    "# Initialize the Azure AI LLM with the specific model\n",
    "llm = AzureChatOpenAI(\n",
    "    azure_endpoint=\"https://oai-bim42-test-fr-ai.openai.azure.com\",\n",
    "    azure_deployment=\"gpt-4o-mini\",\n",
    "    openai_api_version=\"2025-01-01-preview\",\n",
    ")\n",
    "\n",
    "# Define the system prompt that instructs the LLM how to answer questions based on retrieved context\n",
    "system_prompt = (\n",
    "    \"You are a specialist of Building Information modeling looking for a web-based building model viewer\"    \n",
    "    \"You are an assistant for question-answering tasks. \"\n",
    "    \"Use the following pieces of retrieved context to answer the question.\"\n",
    "    \"Add sources like links to your answer.\"\n",
    "    \"If you don't know the answer, say that you don't know.\"\n",
    "    \"Use four sentences maximum and keep the answer concise.\"\n",
    "    \"\\n\\n\"\n",
    "    \"{context}\"  # Placeholder for the retrieved context\n",
    ")\n",
    "\n",
    "# Create a chat prompt template with a system message and human message\n",
    "prompt = ChatPromptTemplate.from_messages(\n",
    "    [\n",
    "        (\"system\", system_prompt),  # System message contains instructions and context\n",
    "        (\"human\", \"{input}\"),  # Human message includes the user's input question\n",
    "    ]\n",
    ")\n",
    "\n",
    "# Create a document chain that combines the LLM with the prompt\n",
    "question_answer_chain = create_stuff_documents_chain(llm, prompt)\n",
    "\n",
    "# Combine the retrieval chain with the question-answering chain \n",
    "# The retrieval chain retrieves relevant documents and feeds them into the question-answering chain\n",
    "retrieval_chain = create_retrieval_chain(retriever, question_answer_chain)"
   ]
  },
  {
   "cell_type": "code",
   "execution_count": 11,
   "id": "b600c096-246f-4455-a8a3-ea82c08ad9ed",
   "metadata": {},
   "outputs": [
    {
     "name": "stdout",
     "output_type": "stream",
     "text": [
      "The software editor behind the web-based building model viewer mentioned is xeokit. Xeokit is a JavaScript framework that focuses on engineering graphics for the web, specifically tailored for visualizing large-scale 3D models in browsers. It has grown from over 10 years of experience in the field and has become a go-to solution for various applications, including construction and infrastructure projects. Xeokit has also established partnerships, such as with D-Studio, to enhance its features and capabilities further. For more information, you can visit their site: [xeokit](https://xeokit.com).\n"
     ]
    }
   ],
   "source": [
    "# Invoke the chain with a question, and the retriever will provide context for the LLM to generate an answer\n",
    "response = retrieval_chain.invoke({\"input\": \"Please describe the software editor behind this solution (name, description, history, \"})\n",
    "print(response['answer'])"
   ]
  },
  {
   "cell_type": "code",
   "execution_count": 12,
   "id": "444634a0-f9b1-4adb-828f-2a72608426b8",
   "metadata": {},
   "outputs": [
    {
     "name": "stdout",
     "output_type": "stream",
     "text": [
      "The xeokit SDK is open-source software licensed under the Affero GPL version 3 license, which is free to use. Additionally, they offer custom proprietary licenses for enterprises that include full support with flexible terms. The specific pricing for the custom licenses would need to be discussed directly with the provider, Creoox AG. For more information, you can visit the xeokit website.\n"
     ]
    }
   ],
   "source": [
    "response = retrieval_chain.invoke({\"input\": \"What is the price or licencing model of the solution?\"})\n",
    "print(response['answer'])"
   ]
  },
  {
   "cell_type": "code",
   "execution_count": 13,
   "id": "3aac5bf2-a70d-4eb6-bce3-18527228d86a",
   "metadata": {},
   "outputs": [
    {
     "name": "stdout",
     "output_type": "stream",
     "text": [
      "I don't know.\n"
     ]
    }
   ],
   "source": [
    "response = retrieval_chain.invoke({\"input\": \"Can you list all the input format accepted by the solution?\"})\n",
    "print(response['answer'])"
   ]
  },
  {
   "cell_type": "code",
   "execution_count": 14,
   "id": "291604d0-bc68-4d85-ad77-2c3d4dd89422",
   "metadata": {},
   "outputs": [
    {
     "name": "stdout",
     "output_type": "stream",
     "text": [
      "The web viewer supports IFC formats, specifically IFC2x3 and IFC4. This allows for effective loading and rendering of building information models. For more details, you can visit the [xeokit viewer features section](https://github.com/xeokit/xeokit-bim-viewer/blob/master/app/index.html).\n"
     ]
    }
   ],
   "source": [
    "response = retrieval_chain.invoke({\"input\": \"What is the format used in the web viewer ?\"})\n",
    "print(response['answer'])"
   ]
  },
  {
   "cell_type": "code",
   "execution_count": 16,
   "id": "0b74e297-4f30-4c7b-b52b-fd03505eaa6a",
   "metadata": {},
   "outputs": [
    {
     "name": "stdout",
     "output_type": "stream",
     "text": [
      "Yes, there is a mention of BCF (BIM Collaborative Format) in the context of managing issues on a BIM project. The BCF records capture the visual state of a BIM viewer, including parameters like camera position and object visibility. You can use methods like `BIMViewer#loadBCFViewpoint()` to load and `BIMViewer#saveBCFViewpoint()` to save BCF records. For more details, you can refer to the documentation at [xeokit](https://xeokit.io).\n"
     ]
    }
   ],
   "source": [
    "response = retrieval_chain.invoke({\"input\": \"Is there is any mention of BCF?\"})\n",
    "print(response['answer'])"
   ]
  },
  {
   "cell_type": "code",
   "execution_count": null,
   "id": "cc279b4e",
   "metadata": {},
   "outputs": [],
   "source": []
  }
 ],
 "metadata": {
  "kernelspec": {
   "display_name": "base",
   "language": "python",
   "name": "python3"
  },
  "language_info": {
   "codemirror_mode": {
    "name": "ipython",
    "version": 3
   },
   "file_extension": ".py",
   "mimetype": "text/x-python",
   "name": "python",
   "nbconvert_exporter": "python",
   "pygments_lexer": "ipython3",
   "version": "3.12.7"
  }
 },
 "nbformat": 4,
 "nbformat_minor": 5
}
